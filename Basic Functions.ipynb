{
 "cells": [
  {
   "cell_type": "code",
   "execution_count": 3,
   "metadata": {},
   "outputs": [
    {
     "name": "stdout",
     "output_type": "stream",
     "text": [
      "101 101\n",
      "18 101\n",
      "23 101\n",
      "74 101\n",
      "58 101\n",
      "93 101\n",
      "Largest number is  101\n"
     ]
    }
   ],
   "source": [
    "# find the largest number in a list\n",
    "largest_number=0\n",
    "count=0\n",
    "list=(101,18,23,74,58,93)\n",
    "\n",
    "for value in list:\n",
    "    if value>largest_number:\n",
    "        largest_number = value\n",
    "    count+=1\n",
    "    print(value,largest_number)\n",
    "\n",
    "print('Largest number is ',largest_number)"
   ]
  },
  {
   "cell_type": "code",
   "execution_count": 7,
   "metadata": {},
   "outputs": [
    {
     "name": "stdout",
     "output_type": "stream",
     "text": [
      "2 2\n",
      "18 2\n",
      "23 2\n",
      "-74 -74\n",
      "-58 -74\n",
      "93 -74\n",
      "Smallest number is  -74\n"
     ]
    }
   ],
   "source": [
    "# find the smallest number in a list\n",
    "smallest_number=None\n",
    "count=0\n",
    "list=(2,18,23,-74,-58,93)\n",
    "\n",
    "for value in list:\n",
    "    if smallest_number is None:\n",
    "        smallest_number=value\n",
    "    elif value<smallest_number:\n",
    "        smallest_number=value\n",
    "\n",
    "    count+=1\n",
    "    print(value,smallest_number)\n",
    "\n",
    "print('Smallest number is ',smallest_number)"
   ]
  },
  {
   "cell_type": "code",
   "execution_count": 9,
   "metadata": {},
   "outputs": [
    {
     "name": "stdout",
     "output_type": "stream",
     "text": [
      "Length of string is  6\n",
      "b\n",
      "a\n",
      "n\n",
      "a\n",
      "n\n",
      "a\n",
      "Ended\n"
     ]
    }
   ],
   "source": [
    "# displays the string\n",
    "\n",
    "fruit='banana'\n",
    "length=len(fruit)\n",
    "print('Length of string is ',length)\n",
    "index=0\n",
    "while index<length:\n",
    "\n",
    "        letter=(fruit[index])\n",
    "        print(letter)\n",
    "        index+=1\n",
    "print('Ended')"
   ]
  },
  {
   "cell_type": "code",
   "execution_count": 13,
   "metadata": {},
   "outputs": [
    {
     "name": "stdout",
     "output_type": "stream",
     "text": [
      "Enter the string  :i am muhammad junaid riaz\n",
      "Length of string is :  25\n",
      "Which letter you want to find :  z\n",
      "The  z letter founds  1   times\n",
      "Total spaces in the string are  :   4\n",
      "Sequence of the string enetered by user is\n",
      "i\n",
      " \n",
      "a\n",
      "m\n",
      " \n",
      "m\n",
      "u\n",
      "h\n",
      "a\n",
      "m\n",
      "m\n",
      "a\n",
      "d\n",
      " \n",
      "j\n",
      "u\n",
      "n\n",
      "a\n",
      "i\n",
      "d\n",
      " \n",
      "r\n",
      "i\n",
      "a\n",
      "z\n",
      "Upper Class is  :   I AM MUHAMMAD JUNAID RIAZ\n",
      "Lower Class is  :   i am muhammad junaid riaz\n",
      "Letter  z is at   :   24\n"
     ]
    }
   ],
   "source": [
    "# count occurances of letter in a string\n",
    "\n",
    "user_input=input('Enter the string  :')\n",
    "length=len(user_input)\n",
    "print('Length of string is : ',length)\n",
    "\n",
    "count=0\n",
    "desired_letter=input('Which letter you want to find :  ')\n",
    "for letter in user_input:\n",
    "    if letter==desired_letter:\n",
    "        count+=1\n",
    "print('The ',desired_letter,'letter founds ',count, '  times')\n",
    "\n",
    "# count spaces in string\n",
    "space_count=0\n",
    "for space_letter in user_input:\n",
    "    if space_letter==' ':\n",
    "        space_count+=1\n",
    "print('Total spaces in the string are  :  ',space_count)\n",
    "\n",
    "# displays the sequence of string\n",
    "print('Sequence of the string enetered by user is')\n",
    "for letter in user_input:\n",
    "    print(letter)\n",
    "\n",
    "# convert the string into upper/lower class\n",
    "\n",
    "print('Upper Class is  :  ',user_input.upper())\n",
    "print('Lower Class is  :  ',user_input.lower())\n",
    "\n",
    "# find first occurance of a letter in string\n",
    "\n",
    "print('Letter ',desired_letter, 'is at   :  ',user_input.find(desired_letter))"
   ]
  }
 ],
 "metadata": {
  "kernelspec": {
   "display_name": "Python 3",
   "language": "python",
   "name": "python3"
  },
  "language_info": {
   "codemirror_mode": {
    "name": "ipython",
    "version": 3
   },
   "file_extension": ".py",
   "mimetype": "text/x-python",
   "name": "python",
   "nbconvert_exporter": "python",
   "pygments_lexer": "ipython3",
   "version": "3.7.4"
  }
 },
 "nbformat": 4,
 "nbformat_minor": 2
}
