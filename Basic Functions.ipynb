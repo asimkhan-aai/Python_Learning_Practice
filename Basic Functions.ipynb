{
 "cells": [
  {
   "cell_type": "code",
   "execution_count": 1,
   "metadata": {},
   "outputs": [
    {
     "name": "stdout",
     "output_type": "stream",
     "text": [
      "101 101\n",
      "18 101\n",
      "23 101\n",
      "74 101\n",
      "58 101\n",
      "93 101\n",
      "Largest number is  101\n",
      "2 2\n",
      "18 2\n",
      "23 2\n",
      "-74 -74\n",
      "-58 -74\n",
      "93 -74\n",
      "Smallest number is  -74\n"
     ]
    }
   ],
   "source": [
    "# find the largest number in a list\n",
    "largest_number=0\n",
    "count=0\n",
    "list=(101,18,23,74,58,93)\n",
    "\n",
    "for value in list:\n",
    "    if value>largest_number:\n",
    "        largest_number = value\n",
    "    count+=1\n",
    "    print(value,largest_number)\n",
    "\n",
    "print('Largest number is ',largest_number)\n",
    "\n",
    "# find the smallest number in a list\n",
    "smallest_number=None\n",
    "count=0\n",
    "list=(2,18,23,-74,-58,93)\n",
    "\n",
    "for value in list:\n",
    "    if smallest_number is None:\n",
    "        smallest_number=value\n",
    "    elif value<smallest_number:\n",
    "        smallest_number=value\n",
    "\n",
    "    count+=1\n",
    "    print(value,smallest_number)\n",
    "\n",
    "print('Smallest number is ',smallest_number)"
   ]
  },
  {
   "cell_type": "code",
   "execution_count": 9,
   "metadata": {},
   "outputs": [
    {
     "name": "stdout",
     "output_type": "stream",
     "text": [
      "Length of string is  6\n",
      "b\n",
      "a\n",
      "n\n",
      "a\n",
      "n\n",
      "a\n",
      "Ended\n"
     ]
    }
   ],
   "source": [
    "# displays the string\n",
    "\n",
    "fruit='banana'\n",
    "length=len(fruit)\n",
    "print('Length of string is ',length)\n",
    "index=0\n",
    "while index<length:\n",
    "\n",
    "        letter=(fruit[index])\n",
    "        print(letter)\n",
    "        index+=1\n",
    "print('Ended')"
   ]
  },
  {
   "cell_type": "code",
   "execution_count": null,
   "metadata": {},
   "outputs": [],
   "source": [
    "# count occurances of letter in a string\n",
    "\n",
    "user_input=input('Enter the string  :')\n",
    "length=len(user_input)\n",
    "print('Length of string is : ',length)\n",
    "\n",
    "count=0\n",
    "desired_letter=input('Which letter you want to find :  ')\n",
    "for letter in user_input:\n",
    "    if letter==desired_letter:\n",
    "        count+=1\n",
    "print('The ',desired_letter,'letter founds ',count, '  times')\n",
    "\n",
    "# count spaces in string\n",
    "space_count=0\n",
    "for space_letter in user_input:\n",
    "    if space_letter==' ':\n",
    "        space_count+=1\n",
    "print('Total spaces in the string are  :  ',space_count)\n",
    "\n",
    "# displays the sequence of string\n",
    "print('Sequence of the string enetered by user is')\n",
    "for letter in user_input:\n",
    "    print(letter)\n",
    "\n",
    "# convert the string into upper/lower class\n",
    "\n",
    "print('Upper Class is  :  ',user_input.upper())\n",
    "print('Lower Class is  :  ',user_input.lower())\n",
    "\n",
    "# find first occurance of a letter in string\n",
    "\n",
    "print('Letter ',desired_letter, 'is at   :  ',user_input.find(desired_letter))"
   ]
  },
  {
   "cell_type": "code",
   "execution_count": 2,
   "metadata": {},
   "outputs": [
    {
     "name": "stdout",
     "output_type": "stream",
     "text": [
      "Please enter the data :  i am junaid riaz my email is xyz@gmail.com and i am stuent of batch 3\n",
      "Web address of the email service used in the given text is : gmail.com\n"
     ]
    }
   ],
   "source": [
    "# Find email's website in the data\n",
    "\n",
    "user_input=input('Please enter the data :  ')\n",
    "\n",
    "length=len(user_input)\n",
    "position=user_input.find('@')\n",
    "space=user_input.find(' ',position)\n",
    "web_address=user_input[position+1:space]\n",
    "\n",
    "print('Web address of the email service used in the given text is :',web_address)\n",
    "\n"
   ]
  },
  {
   "cell_type": "code",
   "execution_count": 3,
   "metadata": {},
   "outputs": [
    {
     "name": "stdout",
     "output_type": "stream",
     "text": [
      "Email address in the given text is : xyz@gmail.com\n",
      "\n",
      "\n",
      "Classification of the \"email address\" and \"website address\" is\n",
      "\n",
      "xyz\n",
      "gmail.com\n",
      "\n",
      "respectively\n",
      "\n",
      "Ended\n"
     ]
    }
   ],
   "source": [
    "# Extract email from text\n",
    "\n",
    "user_input=('my name is junaid riaz and my email is xyz@gmail.com and i am a student')\n",
    "\n",
    "list=user_input.split()\n",
    "\n",
    "for line in list:\n",
    "    if '@' not in line:\n",
    "        continue\n",
    "    word=line\n",
    "print('Email address in the given text is :',word)\n",
    "print('\\n')\n",
    "new_list=word.split('@')\n",
    "length_of_new_list=len(new_list)\n",
    "count=0\n",
    "\n",
    "print('Classification of the \"email address\" and \"website address\" is\\n')\n",
    "while count<length_of_new_list:\n",
    "    print(new_list[count])\n",
    "    count+=1\n",
    "print('\\nrespectively')\n",
    "\n",
    "\n",
    "print('\\nProgram is Ended')"
   ]
  },
  {
   "cell_type": "code",
   "execution_count": 3,
   "metadata": {},
   "outputs": [
    {
     "name": "stdout",
     "output_type": "stream",
     "text": [
      "Enter File :file.txt\n",
      "junaid \n",
      " 7\n"
     ]
    }
   ],
   "source": [
    "# read data from text file and extract big word and its occurance time\n",
    "\n",
    "name = input('Enter File :')\n",
    "\n",
    "handle = open(name)\n",
    "\n",
    "data=dict()\n",
    "for line in handle:\n",
    "    words=line.split()\n",
    "\n",
    "    for word in words:\n",
    "        data[word]=data.get(word,0)+1\n",
    "bigcount=None\n",
    "bigword=None\n",
    "\n",
    "for word,count in data.items():\n",
    "    if bigcount is None or count>bigcount:\n",
    "        bigword=word\n",
    "        bigcount=count\n",
    "print(bigword,'\\n',bigcount)\n"
   ]
  },
  {
   "cell_type": "code",
   "execution_count": 4,
   "metadata": {},
   "outputs": [
    {
     "name": "stdout",
     "output_type": "stream",
     "text": [
      "Please Input String :junaid riaz\n",
      "Total Vovel found is    5\n",
      "Ended\n"
     ]
    }
   ],
   "source": [
    "# Calculate vowels in a String\n",
    "\n",
    "\n",
    "user_data=input('Please Input String :')\n",
    "i=user_data.lower()\n",
    "length=0\n",
    "count=0\n",
    "while length<len(i):\n",
    "    if i[length] is 'a':\n",
    "        count+=1\n",
    "        length += 1\n",
    "    elif i[length] is 'e':\n",
    "        count+=1\n",
    "        length += 1\n",
    "    elif i[length] is 'i':\n",
    "            count+=1\n",
    "            length += 1\n",
    "    elif i[length] is 'o':\n",
    "            count+=1\n",
    "            length += 1\n",
    "    elif i[length] is 'u':\n",
    "            count+=1\n",
    "            length += 1\n",
    "    else:\n",
    "        length+=1\n",
    "\n",
    "print('Total Vovel found is   ',count)\n",
    "print('Ended')\n"
   ]
  },
  {
   "cell_type": "code",
   "execution_count": null,
   "metadata": {},
   "outputs": [],
   "source": []
  },
  {
   "cell_type": "code",
   "execution_count": null,
   "metadata": {},
   "outputs": [],
   "source": []
  }
 ],
 "metadata": {
  "kernelspec": {
   "display_name": "Python 3",
   "language": "python",
   "name": "python3"
  },
  "language_info": {
   "codemirror_mode": {
    "name": "ipython",
    "version": 3
   },
   "file_extension": ".py",
   "mimetype": "text/x-python",
   "name": "python",
   "nbconvert_exporter": "python",
   "pygments_lexer": "ipython3",
   "version": "3.7.4"
  }
 },
 "nbformat": 4,
 "nbformat_minor": 2
}
