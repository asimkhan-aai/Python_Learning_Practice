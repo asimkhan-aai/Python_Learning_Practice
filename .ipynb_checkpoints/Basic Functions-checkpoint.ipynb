{
 "cells": [
  {
   "cell_type": "code",
   "execution_count": 1,
   "metadata": {},
   "outputs": [
    {
     "name": "stdout",
     "output_type": "stream",
     "text": [
      "101 101\n",
      "18 101\n",
      "23 101\n",
      "74 101\n",
      "58 101\n",
      "93 101\n",
      "Largest number is  101\n",
      "2 2\n",
      "18 2\n",
      "23 2\n",
      "-74 -74\n",
      "-58 -74\n",
      "93 -74\n",
      "Smallest number is  -74\n"
     ]
    }
   ],
   "source": [
    "# find the largest number in a list\n",
    "largest_number=0\n",
    "count=0\n",
    "list=(101,18,23,74,58,93)\n",
    "\n",
    "for value in list:\n",
    "    if value>largest_number:\n",
    "        largest_number = value\n",
    "    count+=1\n",
    "    print(value,largest_number)\n",
    "\n",
    "print('Largest number is ',largest_number)\n",
    "\n",
    "# find the smallest number in a list\n",
    "smallest_number=None\n",
    "count=0\n",
    "list=(2,18,23,-74,-58,93)\n",
    "\n",
    "for value in list:\n",
    "    if smallest_number is None:\n",
    "        smallest_number=value\n",
    "    elif value<smallest_number:\n",
    "        smallest_number=value\n",
    "\n",
    "    count+=1\n",
    "    print(value,smallest_number)\n",
    "\n",
    "print('Smallest number is ',smallest_number)"
   ]
  },
  {
   "cell_type": "code",
   "execution_count": 9,
   "metadata": {},
   "outputs": [
    {
     "name": "stdout",
     "output_type": "stream",
     "text": [
      "Length of string is  6\n",
      "b\n",
      "a\n",
      "n\n",
      "a\n",
      "n\n",
      "a\n",
      "Ended\n"
     ]
    }
   ],
   "source": [
    "# displays the string\n",
    "\n",
    "fruit='banana'\n",
    "length=len(fruit)\n",
    "print('Length of string is ',length)\n",
    "index=0\n",
    "while index<length:\n",
    "\n",
    "        letter=(fruit[index])\n",
    "        print(letter)\n",
    "        index+=1\n",
    "print('Ended')"
   ]
  },
  {
   "cell_type": "code",
   "execution_count": null,
   "metadata": {},
   "outputs": [],
   "source": [
    "# count occurances of letter in a string\n",
    "\n",
    "user_input=input('Enter the string  :')\n",
    "length=len(user_input)\n",
    "print('Length of string is : ',length)\n",
    "\n",
    "count=0\n",
    "desired_letter=input('Which letter you want to find :  ')\n",
    "for letter in user_input:\n",
    "    if letter==desired_letter:\n",
    "        count+=1\n",
    "print('The ',desired_letter,'letter founds ',count, '  times')\n",
    "\n",
    "# count spaces in string\n",
    "space_count=0\n",
    "for space_letter in user_input:\n",
    "    if space_letter==' ':\n",
    "        space_count+=1\n",
    "print('Total spaces in the string are  :  ',space_count)\n",
    "\n",
    "# displays the sequence of string\n",
    "print('Sequence of the string enetered by user is')\n",
    "for letter in user_input:\n",
    "    print(letter)\n",
    "\n",
    "# convert the string into upper/lower class\n",
    "\n",
    "print('Upper Class is  :  ',user_input.upper())\n",
    "print('Lower Class is  :  ',user_input.lower())\n",
    "\n",
    "# find first occurance of a letter in string\n",
    "\n",
    "print('Letter ',desired_letter, 'is at   :  ',user_input.find(desired_letter))"
   ]
  },
  {
   "cell_type": "code",
   "execution_count": 2,
   "metadata": {},
   "outputs": [
    {
     "name": "stdout",
     "output_type": "stream",
     "text": [
      "Please enter the data :  i am junaid riaz my email is xyz@gmail.com and i am stuent of batch 3\n",
      "Web address of the email service used in the given text is : gmail.com\n"
     ]
    }
   ],
   "source": [
    "# Find email's website in the data\n",
    "\n",
    "user_input=input('Please enter the data :  ')\n",
    "\n",
    "length=len(user_input)\n",
    "position=user_input.find('@')\n",
    "space=user_input.find(' ',position)\n",
    "web_address=user_input[position+1:space]\n",
    "\n",
    "print('Web address of the email service used in the given text is :',web_address)\n",
    "\n"
   ]
  },
  {
   "cell_type": "code",
   "execution_count": 3,
   "metadata": {},
   "outputs": [
    {
     "name": "stdout",
     "output_type": "stream",
     "text": [
      "Email address in the given text is : xyz@gmail.com\n",
      "\n",
      "\n",
      "Classification of the \"email address\" and \"website address\" is\n",
      "\n",
      "xyz\n",
      "gmail.com\n",
      "\n",
      "respectively\n",
      "\n",
      "Ended\n"
     ]
    }
   ],
   "source": [
    "# Extract email from text\n",
    "\n",
    "user_input=('my name is junaid riaz and my email is xyz@gmail.com and i am a student')\n",
    "\n",
    "list=user_input.split()\n",
    "\n",
    "for line in list:\n",
    "    if '@' not in line:\n",
    "        continue\n",
    "    word=line\n",
    "print('Email address in the given text is :',word)\n",
    "print('\\n')\n",
    "new_list=word.split('@')\n",
    "length_of_new_list=len(new_list)\n",
    "count=0\n",
    "\n",
    "print('Classification of the \"email address\" and \"website address\" is\\n')\n",
    "while count<length_of_new_list:\n",
    "    print(new_list[count])\n",
    "    count+=1\n",
    "print('\\nrespectively')\n",
    "\n",
    "\n",
    "print('\\nProgram is Ended')"
   ]
  },
  {
   "cell_type": "code",
   "execution_count": 3,
   "metadata": {},
   "outputs": [
    {
     "name": "stdout",
     "output_type": "stream",
     "text": [
      "Enter File :file.txt\n",
      "junaid \n",
      " 7\n"
     ]
    }
   ],
   "source": [
    "# read data from text file and extract big word and its occurance time\n",
    "\n",
    "name = input('Enter File :')\n",
    "\n",
    "handle = open(name)\n",
    "\n",
    "data=dict()\n",
    "for line in handle:\n",
    "    words=line.split()\n",
    "\n",
    "    for word in words:\n",
    "        data[word]=data.get(word,0)+1\n",
    "bigcount=None\n",
    "bigword=None\n",
    "\n",
    "for word,count in data.items():\n",
    "    if bigcount is None or count>bigcount:\n",
    "        bigword=word\n",
    "        bigcount=count\n",
    "print(bigword,'\\n',bigcount)\n"
   ]
  },
  {
   "cell_type": "code",
   "execution_count": 4,
   "metadata": {},
   "outputs": [
    {
     "name": "stdout",
     "output_type": "stream",
     "text": [
      "Please Input String :junaid riaz\n",
      "Total Vovel found is    5\n",
      "Ended\n"
     ]
    }
   ],
   "source": [
    "# Calculate vowels in a String\n",
    "\n",
    "\n",
    "user_data=input('Please Input String :')\n",
    "i=user_data.lower()\n",
    "length=0\n",
    "count=0\n",
    "while length<len(i):\n",
    "    if i[length] is 'a':\n",
    "        count+=1\n",
    "        length += 1\n",
    "    elif i[length] is 'e':\n",
    "        count+=1\n",
    "        length += 1\n",
    "    elif i[length] is 'i':\n",
    "            count+=1\n",
    "            length += 1\n",
    "    elif i[length] is 'o':\n",
    "            count+=1\n",
    "            length += 1\n",
    "    elif i[length] is 'u':\n",
    "            count+=1\n",
    "            length += 1\n",
    "    else:\n",
    "        length+=1\n",
    "\n",
    "print('Total Vovel found is   ',count)\n",
    "print('Ended')\n"
   ]
  },
  {
   "cell_type": "code",
   "execution_count": 1,
   "metadata": {},
   "outputs": [
    {
     "name": "stdout",
     "output_type": "stream",
     "text": [
      "Please Enter Number to which factorial is needed  :  10\n",
      "Factorial of the number is  3628800\n"
     ]
    }
   ],
   "source": [
    "# a function to find factorial of a number\n",
    "\n",
    "n = input('Please Enter Number to which factorial is needed  :  ')\n",
    "\n",
    "number = int(n)+1\n",
    "factorial = 1\n",
    "\n",
    "for i in range(1,number):\n",
    "    factorial = factorial * i\n",
    "    \n",
    "\n",
    "print ('Factorial of the number is ',factorial)"
   ]
  },
  {
   "cell_type": "code",
   "execution_count": 3,
   "metadata": {},
   "outputs": [
    {
     "name": "stdout",
     "output_type": "stream",
     "text": [
      "Please Enter Number  :   10\n",
      "Please Enter Number  :   11\n",
      "Please Enter Number  :   12\n",
      "Please Enter Number  :   done\n",
      "12\n",
      "10\n"
     ]
    }
   ],
   "source": [
    "# Find the largest/smallest number from the given input and generates error if wrong input occurs\n",
    "\n",
    "largest_number=None\n",
    "smallest_number=None\n",
    "\n",
    "\n",
    "while True:\n",
    "    try:\n",
    "        number=input('Please Enter Number  :   ')\n",
    "        if number=='done':\n",
    "            break\n",
    "        \n",
    "        number=int(number)\n",
    "        if largest_number is None or largest_number<number:\n",
    "            largest_number = number\n",
    "        if smallest_number is None or smallest_number>number:\n",
    "            smallest_number=number\n",
    "        \n",
    "\n",
    "\n",
    "    except ValueError:\n",
    "        print('Please enter valid input')\n",
    "\n",
    "print(largest_number)\n",
    "\n",
    "print(smallest_number)"
   ]
  },
  {
   "cell_type": "code",
   "execution_count": 5,
   "metadata": {},
   "outputs": [
    {
     "name": "stdout",
     "output_type": "stream",
     "text": [
      "Please Enter Year (Four Digits) :  2002\n",
      "This is not a leap year\n",
      "Thanks for using program\n"
     ]
    }
   ],
   "source": [
    "# find either a year is a leap year or not\n",
    "\n",
    "year=int(input('Please Enter Year (Four Digits) :  '))\n",
    "\n",
    "if year%4==0:\n",
    "    print('Congrats! This is a leap year')\n",
    "else:\n",
    "    print('This is not a leap year')\n",
    "\n",
    "print('Thanks for using program')"
   ]
  },
  {
   "cell_type": "code",
   "execution_count": 6,
   "metadata": {},
   "outputs": [
    {
     "name": "stdout",
     "output_type": "stream",
     "text": [
      "Please Enter Temperature (Two Digits) :  10\n",
      "Temperature in F is  50.0\n",
      "Thanks for using program\n"
     ]
    }
   ],
   "source": [
    "# Convert C Temp into F Temp\n",
    "\n",
    "\n",
    "temp_in_C=int(input('Please Enter Temperature (Two Digits) :  '))\n",
    "\n",
    "temp_in_F = (temp_in_C * 9/5) + 32\n",
    "\n",
    "print('Temperature in F is ', temp_in_F)\n",
    "\n",
    "print('Thanks for using program')\n"
   ]
  },
  {
   "cell_type": "code",
   "execution_count": 8,
   "metadata": {},
   "outputs": [
    {
     "name": "stdout",
     "output_type": "stream",
     "text": [
      "Please Enter Number for which Divisors required  :10\n",
      "1\n",
      "2\n",
      "5\n",
      "10\n",
      "Thanks for using program\n"
     ]
    }
   ],
   "source": [
    "#Find all the divisors of integer\n",
    "\n",
    "number = int(input('Please Enter Number for which Divisors required  :'))\n",
    "\n",
    "for i in range(1,number+1):\n",
    "    if number%i==0:\n",
    "        print(i)\n",
    "\n",
    "\n",
    "print('Thanks for using program')\n"
   ]
  },
  {
   "cell_type": "code",
   "execution_count": 9,
   "metadata": {},
   "outputs": [
    {
     "name": "stdout",
     "output_type": "stream",
     "text": [
      "Please enter number for which table is required  :  2\n",
      "2  X  1  =  2\n",
      "2  X  2  =  4\n",
      "2  X  3  =  6\n",
      "2  X  4  =  8\n",
      "2  X  5  =  10\n",
      "2  X  6  =  12\n",
      "2  X  7  =  14\n",
      "2  X  8  =  16\n",
      "2  X  9  =  18\n",
      "2  X  10  =  20\n",
      "Thanks for using program\n"
     ]
    }
   ],
   "source": [
    "# Print table of the given number\n",
    "\n",
    "number = int(input('Please enter number for which table is required  :  '))\n",
    "\n",
    "for i in range(1,11):\n",
    "    print(number, ' X ',i, ' = ',number*i)\n",
    "\n",
    "print('Thanks for using program')"
   ]
  },
  {
   "cell_type": "code",
   "execution_count": 14,
   "metadata": {},
   "outputs": [
    {
     "name": "stdout",
     "output_type": "stream",
     "text": [
      "Please enter number  : 23\n",
      "This is a prime number\n",
      "Thanks for using program\n"
     ]
    }
   ],
   "source": [
    "# Find a number is a prime number or not \n",
    "\n",
    "num = int(input('Please enter number  : '))\n",
    "\n",
    "for i in range(2,num):\n",
    "    if num%i==0:\n",
    "        print('This is not a prime number')\n",
    "        print('Because ',i, ' times ',num//i, ' is', num)\n",
    "        break\n",
    "else:\n",
    "    print('This is a prime number')\n",
    "\n",
    "print('Thanks for using program')"
   ]
  },
  {
   "cell_type": "code",
   "execution_count": 1,
   "metadata": {},
   "outputs": [
    {
     "name": "stdout",
     "output_type": "stream",
     "text": [
      "Please enter start number  : 10\n",
      "Please enter end number  :20\n",
      "11\n",
      "13\n",
      "17\n",
      "19\n",
      "Thanks for using program\n"
     ]
    }
   ],
   "source": [
    "# Find a prime number from a series\n",
    "\n",
    "start_num = int(input('Please enter start number  : '))\n",
    "end_num=int(input('Please enter end number  :'))\n",
    "\n",
    "\n",
    "for num in range(start_num,end_num+1):\n",
    "    if num>1:\n",
    "        for i in range(2,num):\n",
    "            if (num%i)==0:\n",
    "                break\n",
    "        else:\n",
    "            print(num)\n",
    "\n",
    "print('Thanks for using program')"
   ]
  },
  {
   "cell_type": "code",
   "execution_count": null,
   "metadata": {},
   "outputs": [],
   "source": [
    "# string functions\n",
    "\n",
    "name = \"Hamza\"\n",
    "fname =\"Konain\"\n",
    "program = 'PIAIC'\n",
    "score = 200\n",
    "\n",
    "print('First way \\n')\n",
    "\n",
    "id=\"\"\"Welcome to PIAIC batch 3!\n",
    "Name = {}\n",
    "Father_name = {}\n",
    "Program = {}\n",
    "Score = {}\n",
    "\"\"\"\n",
    "print(id.format(name,fname,program,score))\n",
    "\n",
    "print('SEcond way  \\n')\n",
    "print('Welcome to PIAIC Batch 3!\\n Name = %s \\n Father name = %s \\n Program = %s \\n Score = %i' % (name,fname,program,score))\n",
    "\n",
    "print('\\nThird way')\n",
    "print(\"Name :\" + name + \"\\nFather name :\" + fname + \"\\nProgram : \" + program )"
   ]
  }
 ],
 "metadata": {
  "kernelspec": {
   "display_name": "Python 3",
   "language": "python",
   "name": "python3"
  },
  "language_info": {
   "codemirror_mode": {
    "name": "ipython",
    "version": 3
   },
   "file_extension": ".py",
   "mimetype": "text/x-python",
   "name": "python",
   "nbconvert_exporter": "python",
   "pygments_lexer": "ipython3",
   "version": "3.7.4"
  }
 },
 "nbformat": 4,
 "nbformat_minor": 2
}
